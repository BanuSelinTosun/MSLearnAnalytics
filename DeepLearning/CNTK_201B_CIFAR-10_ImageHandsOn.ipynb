{
 "cells": [
  {
   "cell_type": "code",
   "execution_count": 1,
   "metadata": {
    "collapsed": true,
    "deletable": true,
    "editable": true
   },
   "outputs": [],
   "source": [
    "from IPython.display import Image"
   ]
  },
  {
   "cell_type": "markdown",
   "metadata": {
    "deletable": true,
    "editable": true
   },
   "source": [
    "# CNTK 201B: Hands On Labs Image Recognition"
   ]
  },
  {
   "cell_type": "markdown",
   "metadata": {
    "deletable": true,
    "editable": true
   },
   "source": [
    "This hands-on lab shows how to implement image recognition task using [convolution network][] with CNTK v2 Python API. You will start with a basic feedforward CNN architecture in order to classify Cifar dataset, then you will keep adding advanced feature to your network. Finally, you will implement a VGG net and residual net similar to the one that won ImageNet competition but smaller in size.\n",
    "\n",
    "[convolution network]:https://en.wikipedia.org/wiki/Convolutional_neural_network\n",
    "\n",
    "## Introduction\n",
    "\n",
    "In this hands-on, you will practice the following:\n",
    "\n",
    "* Understanding subset of CNTK python API needed for image classification task.\n",
    "* Write a custom convolution network to classify Cifar dataset.\n",
    "* Modifying the network structure by adding:\n",
    " * [Dropout][] layer.\n",
    " * Batchnormalization layer.\n",
    "* Implement a [VGG][] style network.\n",
    "* Introduction to Residual Nets (RESNET).\n",
    "* Implement and train [RESNET network][].\n",
    "\n",
    "[RESNET network]:https://github.com/Microsoft/CNTK/wiki/Hands-On-Labs-Image-Recognition\n",
    "[VGG]:http://www.robots.ox.ac.uk/~vgg/research/very_deep/\n",
    "[Dropout]:https://en.wikipedia.org/wiki/Dropout_(neural_networks)\n",
    "\n",
    "## Prerequisites\n",
    "\n",
    "CNTK 201A hands-on lab, in which you will download and prepare Cifar dataset is a prerequisites for this lab. This tutorial depends on CNTK v2, so before starting this lab you will need to install CNTK v2. Furthermore, all the tutorials in this lab are done in python, therefore, you will need a basic knowledge of Python.\n",
    "\n",
    "CNTK 102 lab is recommended but not a prerequisites for this tutorials. However, a basic understanding of Deep Learning is needed.\n",
    "\n",
    "## Dataset\n",
    "\n",
    "You will use Cifar 10 dataset, from https://www.cs.toronto.edu/~kriz/cifar.html, during this tutorials. The dataset  contains 50000 training images and 10000 test images, all images are 32x32x3. Each image is classified as one of 10 classes as shown below:"
   ]
  },
  {
   "cell_type": "code",
   "execution_count": 2,
   "metadata": {
    "collapsed": false,
    "deletable": true,
    "editable": true
   },
   "outputs": [
    {
     "data": {
      "text/html": [
       "<img src=\"https://cntk.ai/jup/201/cifar-10.png\" width=\"500\" height=\"500\"/>"
      ],
      "text/plain": [
       "<IPython.core.display.Image object>"
      ]
     },
     "execution_count": 2,
     "metadata": {},
     "output_type": "execute_result"
    }
   ],
   "source": [
    "# Figure 1\n",
    "Image(url=\"https://cntk.ai/jup/201/cifar-10.png\", width=500, height=500)"
   ]
  },
  {
   "cell_type": "markdown",
   "metadata": {
    "deletable": true,
    "editable": true
   },
   "source": [
    "The above image is from: https://www.cs.toronto.edu/~kriz/cifar.html\n",
    "\n",
    "## Convolution Neural Network (CNN)\n",
    "\n",
    "Convolution Neural Network (CNN) is a feedforward network comprise of a bunch of layers in such a way that the output of one layer is fed to the next layer (There are more complex architecture that skip layers, we will discuss one of those at the end of this lab). Usually, CNN start with alternating between convolution layer and pooling layer (downsample), then end up with fully connected layer for the classification part.\n",
    "\n",
    "### Convolution layer\n",
    "\n",
    "Convolution layer consist of multiple 2D convolution kernels applied on the input image or the previous layer, each convolution kernel output a feature map."
   ]
  },
  {
   "cell_type": "code",
   "execution_count": 3,
   "metadata": {
    "collapsed": false,
    "deletable": true,
    "editable": true
   },
   "outputs": [
    {
     "data": {
      "text/html": [
       "<img src=\"https://cntk.ai/jup/201/Conv2D.png\"/>"
      ],
      "text/plain": [
       "<IPython.core.display.Image object>"
      ]
     },
     "execution_count": 3,
     "metadata": {},
     "output_type": "execute_result"
    }
   ],
   "source": [
    "# Figure 2\n",
    "Image(url=\"https://cntk.ai/jup/201/Conv2D.png\")"
   ]
  },
  {
   "cell_type": "markdown",
   "metadata": {
    "deletable": true,
    "editable": true
   },
   "source": [
    "The stack of feature maps output are the input to the next layer."
   ]
  },
  {
   "cell_type": "code",
   "execution_count": 4,
   "metadata": {
    "collapsed": false,
    "deletable": true,
    "editable": true
   },
   "outputs": [
    {
     "data": {
      "text/html": [
       "<img src=\"https://cntk.ai/jup/201/Conv2DFeatures.png\"/>"
      ],
      "text/plain": [
       "<IPython.core.display.Image object>"
      ]
     },
     "execution_count": 4,
     "metadata": {},
     "output_type": "execute_result"
    }
   ],
   "source": [
    "# Figure 3\n",
    "Image(url=\"https://cntk.ai/jup/201/Conv2DFeatures.png\")"
   ]
  },
  {
   "cell_type": "markdown",
   "metadata": {
    "deletable": true,
    "editable": true
   },
   "source": [
    "> Gradient-Based Learning Applied to Document Recognition, Proceedings of the IEEE, 86(11):2278-2324, November 1998\n",
    "> Y. LeCun, L. Bottou, Y. Bengio and P. Haffner\n",
    "\n",
    "#### In CNTK:\n",
    "\n",
    "Here the [convolution][] layer in Python:\n",
    "\n",
    "```python\n",
    "def Convolution(filter_shape,        # e.g. (3,3)\n",
    "                num_filters,         # e.g. 64\n",
    "                activation,          # relu or None...etc.\n",
    "                init,                # Random initialization\n",
    "                pad,                 # True or False\n",
    "                strides)             # strides e.g. (1,1)\n",
    "```\n",
    "\n",
    "[convolution]:https://www.cntk.ai/pythondocs/layerref.html#convolution\n",
    "\n",
    "### Pooling layer\n",
    "\n",
    "In most CNN vision architecture, each convolution layer is succeeded by a pooling layer, so they keep alternating until the fully connected layer. \n",
    "\n",
    "The purpose of the pooling layer is as follow:\n",
    "\n",
    "* Reduce the dimensionality of the previous layer, which speed up the network.\n",
    "* Provide a limited translation invariant.\n",
    "\n",
    "Here an example of max pooling with a stride of 2:"
   ]
  },
  {
   "cell_type": "code",
   "execution_count": 5,
   "metadata": {
    "collapsed": false,
    "deletable": true,
    "editable": true
   },
   "outputs": [
    {
     "data": {
      "text/html": [
       "<img src=\"https://cntk.ai/jup/201/MaxPooling.png\" width=\"400\" height=\"400\"/>"
      ],
      "text/plain": [
       "<IPython.core.display.Image object>"
      ]
     },
     "execution_count": 5,
     "metadata": {},
     "output_type": "execute_result"
    }
   ],
   "source": [
    "# Figure 4\n",
    "Image(url=\"https://cntk.ai/jup/201/MaxPooling.png\", width=400, height=400)"
   ]
  },
  {
   "cell_type": "markdown",
   "metadata": {
    "deletable": true,
    "editable": true
   },
   "source": [
    "#### In CNTK:\n",
    "\n",
    "Here the [pooling][] layer in Python:\n",
    "\n",
    "```python\n",
    "\n",
    "# Max pooling\n",
    "def MaxPooling(filter_shape,  # e.g. (3,3)\n",
    "               strides,       # (2,2)\n",
    "               pad)           # True or False\n",
    "\n",
    "# Average pooling\n",
    "def AveragePooling(filter_shape,  # e.g. (3,3)\n",
    "                   strides,       # (2,2)\n",
    "                   pad)           # True or False\n",
    "```\n",
    "\n",
    "[pooling]:https://www.cntk.ai/pythondocs/layerref.html#maxpooling-averagepooling\n",
    "\n",
    "### Dropout layer\n",
    "\n",
    "Dropout layer takes a probability value as an input, the value is called the dropout rate. Let's say the dropu rate is 0.5, what this layer does it pick at random 50% of the nodes from the previous layer and drop them out of the nework. This behavior help regularize the network.\n",
    "\n",
    "> Dropout: A Simple Way to Prevent Neural Networks from Overfitting\n",
    "> Nitish Srivastava, Geoffrey Hinton, Alex Krizhevsky, Ilya Sutskever, Ruslan Salakhutdinov\n",
    "\n",
    "\n",
    "#### In CNTK:\n",
    "\n",
    "Dropout layer in Python:\n",
    "\n",
    "```python\n",
    "\n",
    "# Dropout\n",
    "def Dropout(prob)    # dropout rate e.g. 0.5\n",
    "```\n",
    "\n",
    "### Batch normalization (BN)\n",
    "\n",
    "Batch normalization is a way to make the input to each layer has zero mean and unit variance. BN help the network converge faster and keep the input of each layer around zero. BN has two learnable parameters called gamma and beta, the purpose of those parameters is for the network to decide for itself if the normalized input is what is best or the raw input.\n",
    "\n",
    "> Batch Normalization: Accelerating Deep Network Training by Reducing Internal Covariate Shift\n",
    "> Sergey Ioffe, Christian Szegedy\n",
    "\n",
    "#### In CNTK:\n",
    "\n",
    "[Batch normalization][] layer in Python:\n",
    "\n",
    "```python\n",
    "\n",
    "# Batch normalization\n",
    "def BatchNormalization(map_rank)  # For image map_rank=1\n",
    "```\n",
    "\n",
    "[Batch normalization]:https://www.cntk.ai/pythondocs/layerref.html#batchnormalization-layernormalization-stabilizer\n",
    "\n",
    "## Microsoft Cognitive Network Toolkit (CNTK)\n",
    "\n",
    "CNTK is a highly flexible computation graphs, each node take inputs as tensors and produce tensors as the result of the computation. Each node is exposed in Python API, which give you the flexibility of creating any custom graphs, you can also define your own node in Python or C++ using CPU, GPU or both.\n",
    "\n",
    "For Deep learning, you can use the low level API directly or you can use CNTK layered API. We will start with the low level API, then switch to the layered API in this lab.\n",
    "\n",
    "So let's first import the needed modules for this lab."
   ]
  },
  {
   "cell_type": "code",
   "execution_count": 7,
   "metadata": {
    "collapsed": false,
    "deletable": true,
    "editable": true
   },
   "outputs": [],
   "source": [
    "from __future__ import print_function\n",
    "import os\n",
    "import numpy as np\n",
    "import matplotlib.pyplot as plt\n",
    "import math\n",
    "\n",
    "import cntk as C\n",
    "from cntk.layers import default_options, Convolution, MaxPooling, AveragePooling, Dropout, BatchNormalization, Dense, Sequential, For\n",
    "from cntk.io import MinibatchSource, ImageDeserializer, StreamDef, StreamDefs\n",
    "import cntk.io.transforms as xforms \n",
    "from cntk.initializer import glorot_uniform, he_normal\n",
    "from cntk import Trainer\n",
    "from cntk.learners import momentum_sgd, learning_rate_schedule, UnitType, momentum_as_time_constant_schedule\n",
    "from cntk import cross_entropy_with_softmax, classification_error, relu, input, softmax, element_times\n",
    "from cntk.logging import *\n",
    "\n",
    "#C.device.set_default_device(C.device.gpu(0))"
   ]
  },
  {
   "cell_type": "code",
   "execution_count": 8,
   "metadata": {
    "collapsed": false,
    "deletable": true,
    "editable": true
   },
   "outputs": [
    {
     "data": {
      "text/html": [
       "<img src=\"https://cntk.ai/jup/201/CNN.png\"/>"
      ],
      "text/plain": [
       "<IPython.core.display.Image object>"
      ]
     },
     "execution_count": 8,
     "metadata": {},
     "output_type": "execute_result"
    }
   ],
   "source": [
    "# Figure 5\n",
    "Image(url=\"https://cntk.ai/jup/201/CNN.png\")"
   ]
  },
  {
   "cell_type": "markdown",
   "metadata": {
    "deletable": true,
    "editable": true
   },
   "source": [
    "Now that we imported the needed modules, let's implement our first CNN, as shown in Figure 5 above.\n",
    "\n",
    "Let's implement the above network using CNTK layer API:"
   ]
  },
  {
   "cell_type": "code",
   "execution_count": 9,
   "metadata": {
    "collapsed": true,
    "deletable": true,
    "editable": true
   },
   "outputs": [],
   "source": [
    "def create_basic_model(input, out_dims):\n",
    "    \n",
    "    net = Convolution((5,5), 32, init=glorot_uniform(), activation=relu, pad=True)(input)\n",
    "    net = MaxPooling((3,3), strides=(2,2))(net)\n",
    "\n",
    "    net = Convolution((5,5), 32, init=glorot_uniform(), activation=relu, pad=True)(net)\n",
    "    net = MaxPooling((3,3), strides=(2,2))(net)\n",
    "\n",
    "    net = Convolution((5,5), 64, init=glorot_uniform(), activation=relu, pad=True)(net)\n",
    "    net = MaxPooling((3,3), strides=(2,2))(net)\n",
    "    \n",
    "    net = Dense(64, init=glorot_uniform())(net)\n",
    "    net = Dense(out_dims, init=glorot_uniform(), activation=None)(net)\n",
    "    \n",
    "    return net"
   ]
  },
  {
   "cell_type": "markdown",
   "metadata": {
    "deletable": true,
    "editable": true
   },
   "source": [
    "To train the above model we need two things:\n",
    "* Read the training images and their corresponding labels.\n",
    "* Define a cost function, compute the cost for each mini-batch and update the model weights according to the cost value.\n",
    "\n",
    "To read the data in CNTK, we will use CNTK readers which handle data augmentation and can fetch data in parallel.\n",
    "\n",
    "Example of a map text file:\n",
    "\n",
    "    S:\\data\\CIFAR-10\\train\\00001.png\t9\n",
    "    S:\\data\\CIFAR-10\\train\\00002.png\t9\n",
    "    S:\\data\\CIFAR-10\\train\\00003.png\t4\n",
    "    S:\\data\\CIFAR-10\\train\\00004.png\t1\n",
    "    S:\\data\\CIFAR-10\\train\\00005.png\t1\n"
   ]
  },
  {
   "cell_type": "code",
   "execution_count": 10,
   "metadata": {
    "collapsed": false,
    "deletable": true,
    "editable": true
   },
   "outputs": [],
   "source": [
    "# model dimensions\n",
    "image_height = 32\n",
    "image_width  = 32\n",
    "num_channels = 3\n",
    "num_classes  = 10\n",
    "\n",
    "#\n",
    "# Define the reader for both training and evaluation action.\n",
    "#\n",
    "def create_reader(map_file, mean_file, train):\n",
    "    if not os.path.exists(map_file) or not os.path.exists(mean_file):\n",
    "        raise RuntimeError(\"This tutorials depends 201A tutorials, please run 201A first.\")\n",
    "\n",
    "    # transformation pipeline for the features has jitter/crop only when training\n",
    "    transforms = []\n",
    "    if train:\n",
    "        transforms += [\n",
    "            xforms.crop(crop_type='randomside', side_ratio=0.8) # train uses data augmentation (translation only)\n",
    "        ]\n",
    "    transforms += [\n",
    "        xforms.scale(width=image_width, height=image_height, channels=num_channels, interpolations='linear'),\n",
    "        xforms.mean(mean_file)\n",
    "    ]\n",
    "    # deserializer\n",
    "    return MinibatchSource(ImageDeserializer(map_file, StreamDefs(\n",
    "        features = StreamDef(field='image', transforms=transforms), # first column in map file is referred to as 'image'\n",
    "        labels   = StreamDef(field='label', shape=num_classes)      # and second as 'label'\n",
    "    )))"
   ]
  },
  {
   "cell_type": "markdown",
   "metadata": {
    "deletable": true,
    "editable": true
   },
   "source": [
    "Now let us write the the training and validation loop."
   ]
  },
  {
   "cell_type": "code",
   "execution_count": 11,
   "metadata": {
    "collapsed": false,
    "deletable": true,
    "editable": true
   },
   "outputs": [],
   "source": [
    "#\n",
    "# Train and evaluate the network.\n",
    "#\n",
    "def train_and_evaluate(reader_train, reader_test, max_epochs, model_func):\n",
    "    # Input variables denoting the features and label data\n",
    "    input_var = C.input((num_channels, image_height, image_width))\n",
    "    label_var = C.input((num_classes))\n",
    "\n",
    "    # Normalize the input\n",
    "    feature_scale = 1.0 / 256.0\n",
    "    input_var_norm = element_times(feature_scale, input_var)\n",
    "    \n",
    "    # apply model to input\n",
    "    z = model_func(input_var_norm, out_dims=10)\n",
    "\n",
    "    #\n",
    "    # Training action\n",
    "    #\n",
    "\n",
    "    # loss and metric\n",
    "    ce = cross_entropy_with_softmax(z, label_var)\n",
    "    pe = classification_error(z, label_var)\n",
    "\n",
    "    # training config\n",
    "    epoch_size     = 50000\n",
    "    minibatch_size = 64\n",
    "\n",
    "    # Set training parameters\n",
    "    lr_per_minibatch       = learning_rate_schedule([0.01]*10 + [0.003]*10 + [0.001], UnitType.minibatch, epoch_size)\n",
    "    momentum_time_constant = momentum_as_time_constant_schedule(-minibatch_size/np.log(0.9))\n",
    "    l2_reg_weight          = 0.001\n",
    "    \n",
    "    # trainer object\n",
    "    learner = momentum_sgd(z.parameters, \n",
    "                           lr = lr_per_minibatch, momentum = momentum_time_constant, \n",
    "                           l2_regularization_weight=l2_reg_weight)\n",
    "    progress_printer = ProgressPrinter(tag='Training', num_epochs=max_epochs)\n",
    "    trainer = Trainer(z, (ce, pe), [learner], [progress_printer])\n",
    "\n",
    "    # define mapping from reader streams to network inputs\n",
    "    input_map = {\n",
    "        input_var: reader_train.streams.features,\n",
    "        label_var: reader_train.streams.labels\n",
    "    }\n",
    "\n",
    "    log_number_of_parameters(z) ; print()\n",
    "\n",
    "    # perform model training\n",
    "    batch_index = 0\n",
    "    plot_data = {'batchindex':[], 'loss':[], 'error':[]}\n",
    "    for epoch in range(max_epochs):       # loop over epochs\n",
    "        sample_count = 0\n",
    "        while sample_count < epoch_size:  # loop over minibatches in the epoch\n",
    "            data = reader_train.next_minibatch(min(minibatch_size, epoch_size - sample_count), input_map=input_map) # fetch minibatch.\n",
    "            trainer.train_minibatch(data)                                   # update model with it\n",
    "\n",
    "            sample_count += data[label_var].num_samples                     # count samples processed so far\n",
    "            \n",
    "            # For visualization...            \n",
    "            plot_data['batchindex'].append(batch_index)\n",
    "            plot_data['loss'].append(trainer.previous_minibatch_loss_average)\n",
    "            plot_data['error'].append(trainer.previous_minibatch_evaluation_average)\n",
    "            \n",
    "            batch_index += 1\n",
    "        trainer.summarize_training_progress()\n",
    "        \n",
    "    #\n",
    "    # Evaluation action\n",
    "    #\n",
    "    epoch_size     = 10000\n",
    "    minibatch_size = 16\n",
    "\n",
    "    # process minibatches and evaluate the model\n",
    "    metric_numer    = 0\n",
    "    metric_denom    = 0\n",
    "    sample_count    = 0\n",
    "    minibatch_index = 0\n",
    "\n",
    "    while sample_count < epoch_size:\n",
    "        current_minibatch = min(minibatch_size, epoch_size - sample_count)\n",
    "\n",
    "        # Fetch next test min batch.\n",
    "        data = reader_test.next_minibatch(current_minibatch, input_map=input_map)\n",
    "\n",
    "        # minibatch data to be trained with\n",
    "        metric_numer += trainer.test_minibatch(data) * current_minibatch\n",
    "        metric_denom += current_minibatch\n",
    "\n",
    "        # Keep track of the number of samples processed so far.\n",
    "        sample_count += data[label_var].num_samples\n",
    "        minibatch_index += 1\n",
    "\n",
    "    print(\"\")\n",
    "    print(\"Final Results: Minibatch[1-{}]: errs = {:0.1f}% * {}\".format(minibatch_index+1, (metric_numer*100.0)/metric_denom, metric_denom))\n",
    "    print(\"\")\n",
    "    \n",
    "    # Visualize training result:\n",
    "    window_width            = 32\n",
    "    loss_cumsum             = np.cumsum(np.insert(plot_data['loss'], 0, 0)) \n",
    "    error_cumsum            = np.cumsum(np.insert(plot_data['error'], 0, 0)) \n",
    "\n",
    "    # Moving average.\n",
    "    plot_data['batchindex'] = np.insert(plot_data['batchindex'], 0, 0)[window_width:]\n",
    "    plot_data['avg_loss']   = (loss_cumsum[window_width:] - loss_cumsum[:-window_width]) / window_width\n",
    "    plot_data['avg_error']  = (error_cumsum[window_width:] - error_cumsum[:-window_width]) / window_width\n",
    "    \n",
    "    plt.figure(1)\n",
    "    plt.subplot(211)\n",
    "    plt.plot(plot_data[\"batchindex\"], plot_data[\"avg_loss\"], 'b--')\n",
    "    plt.xlabel('Minibatch number')\n",
    "    plt.ylabel('Loss')\n",
    "    plt.title('Minibatch run vs. Training loss ')\n",
    "\n",
    "    plt.show()\n",
    "\n",
    "    plt.subplot(212)\n",
    "    plt.plot(plot_data[\"batchindex\"], plot_data[\"avg_error\"], 'r--')\n",
    "    plt.xlabel('Minibatch number')\n",
    "    plt.ylabel('Label Prediction Error')\n",
    "    plt.title('Minibatch run vs. Label Prediction Error ')\n",
    "    plt.show()\n",
    "    \n",
    "    return softmax(z)"
   ]
  },
  {
   "cell_type": "code",
   "execution_count": 14,
   "metadata": {
    "collapsed": false,
    "deletable": true,
    "editable": true
   },
   "outputs": [
    {
     "name": "stdout",
     "output_type": "stream",
     "text": [
      "Training 116906 parameters in 10 parameter tensors.\n",
      "\n",
      "Learning rate per minibatch: 0.01\n",
      "Momentum per sample: 0.9983550962823424\n",
      "Finished Epoch[1 of 5]: [Training] loss = 2.062550 * 50000, metric = 75.39% * 50000 300.474s (166.4 samples/s);\n",
      "Finished Epoch[2 of 5]: [Training] loss = 1.677472 * 50000, metric = 61.55% * 50000 328.332s (152.3 samples/s);\n",
      "Finished Epoch[3 of 5]: [Training] loss = 1.523884 * 50000, metric = 55.57% * 50000 317.243s (157.6 samples/s);\n",
      "Finished Epoch[4 of 5]: [Training] loss = 1.428917 * 50000, metric = 51.38% * 50000 609.070s ( 82.1 samples/s);\n",
      "Finished Epoch[5 of 5]: [Training] loss = 1.342100 * 50000, metric = 48.08% * 50000 478.753s (104.4 samples/s);\n",
      "\n",
      "Final Results: Minibatch[1-626]: errs = 43.3% * 10000\n",
      "\n"
     ]
    },
    {
     "data": {
      "image/png": "[encoded data removed]",
      "text/plain": [
       "<matplotlib.figure.Figure at 0x1a1c3bf1a58>"
      ]
     },
     "metadata": {},
     "output_type": "display_data"
    },
    {
     "data": {
      "image/png": "[encoded data removed]",
      "text/plain": [
       "<matplotlib.figure.Figure at 0x1a1c82717b8>"
      ]
     },
     "metadata": {},
     "output_type": "display_data"
    }
   ],
   "source": [
    "#data_path = os.path.join(\"..\",'data', 'CIFAR-10')\n",
    "data_path = os.path.join(\"..\",\"Examples\",\"Image\",\"DataSets\",\"CIFAR-10\")\n",
    "\n",
    "reader_train = create_reader(os.path.join(data_path, 'train_map.txt'), \n",
    "                             os.path.join(data_path, 'CIFAR-10_mean.xml'), True)\n",
    "reader_test  = create_reader(os.path.join(data_path, 'test_map.txt'), \n",
    "                             os.path.join(data_path, 'CIFAR-10_mean.xml'), False)\n",
    "\n",
    "pred = train_and_evaluate(reader_train, \n",
    "                          reader_test, \n",
    "                          max_epochs=5, \n",
    "                          model_func=create_basic_model)"
   ]
  },
  {
   "cell_type": "markdown",
   "metadata": {
    "deletable": true,
    "editable": true
   },
   "source": [
    "Although, this model is very simple, it still has too much code, we can do better. Here the same model in more terse format:"
   ]
  },
  {
   "cell_type": "code",
   "execution_count": 15,
   "metadata": {
    "collapsed": true,
    "deletable": true,
    "editable": true
   },
   "outputs": [],
   "source": [
    "def create_basic_model_terse(input, out_dims):\n",
    "\n",
    "    with default_options(activation=relu):\n",
    "        model = Sequential([\n",
    "            For(range(3), lambda i: [\n",
    "                Convolution((5,5), [32,32,64][i], init=glorot_uniform(), pad=True),\n",
    "                MaxPooling((3,3), strides=(2,2))\n",
    "            ]),\n",
    "            Dense(64, init=glorot_uniform()),\n",
    "            Dense(out_dims, init=glorot_uniform(), activation=None)\n",
    "        ])\n",
    "\n",
    "    return model(input)"
   ]
  },
  {
   "cell_type": "code",
   "execution_count": null,
   "metadata": {
    "collapsed": false,
    "deletable": true,
    "editable": true
   },
   "outputs": [
    {
     "name": "stdout",
     "output_type": "stream",
     "text": [
      "Training 116906 parameters in 10 parameter tensors.\n",
      "\n",
      "Learning rate per minibatch: 0.01\n",
      "Momentum per sample: 0.9983550962823424"
     ]
    }
   ],
   "source": [
    "pred_basic_model = train_and_evaluate(reader_train, reader_test, max_epochs=10, model_func=create_basic_model_terse)"
   ]
  },
  {
   "cell_type": "markdown",
   "metadata": {
    "deletable": true,
    "editable": true
   },
   "source": [
    "Now that we have a trained model, let's classify the following image:"
   ]
  },
  {
   "cell_type": "code",
   "execution_count": 15,
   "metadata": {
    "collapsed": false,
    "deletable": true,
    "editable": true
   },
   "outputs": [
    {
     "data": {
      "text/html": [
       "<img src=\"https://cntk.ai/jup/201/00014.png\" width=\"64\" height=\"64\"/>"
      ],
      "text/plain": [
       "<IPython.core.display.Image object>"
      ]
     },
     "execution_count": 15,
     "metadata": {},
     "output_type": "execute_result"
    }
   ],
   "source": [
    "# Figure 6\n",
    "Image(url=\"https://cntk.ai/jup/201/00014.png\", width=64, height=64)"
   ]
  },
  {
   "cell_type": "code",
   "execution_count": 16,
   "metadata": {
    "collapsed": false,
    "deletable": true,
    "editable": true
   },
   "outputs": [],
   "source": [
    "import PIL\n",
    "\n",
    "def eval(pred_op, image_path):\n",
    "    label_lookup = [\"airplane\", \"automobile\", \"bird\", \"cat\", \"deer\", \"dog\", \"frog\", \"horse\", \"ship\", \"truck\"]\n",
    "    image_mean   = 133.0\n",
    "    image_data   = np.array(PIL.Image.open(image_path), dtype=np.float32)\n",
    "    image_data  -= image_mean\n",
    "    image_data   = np.ascontiguousarray(np.transpose(image_data, (2, 0, 1)))\n",
    "    \n",
    "    result       = np.squeeze(pred_op.eval({pred_op.arguments[0]:[image_data]}))\n",
    "    \n",
    "    # Return top 3 results:\n",
    "    top_count = 3\n",
    "    result_indices = (-np.array(result)).argsort()[:top_count]\n",
    "\n",
    "    print(\"Top 3 predictions:\")\n",
    "    for i in range(top_count):\n",
    "        print(\"\\tLabel: {:10s}, confidence: {:.2f}%\".format(label_lookup[result_indices[i]], result[result_indices[i]] * 100))"
   ]
  },
  {
   "cell_type": "code",
   "execution_count": 19,
   "metadata": {
    "collapsed": false,
    "deletable": true,
    "editable": true
   },
   "outputs": [
    {
     "name": "stdout",
     "output_type": "stream",
     "text": [
      "Top 3 predictions:\n",
      "\tLabel: truck     , confidence: 96.00%\n",
      "\tLabel: ship      , confidence: 1.14%\n",
      "\tLabel: cat       , confidence: 0.95%\n"
     ]
    }
   ],
   "source": [
    "eval(pred_basic_model, \"../Examples/Image/DataSets/CIFAR-10/test/00014.png\")"
   ]
  },
  {
   "cell_type": "markdown",
   "metadata": {
    "deletable": true,
    "editable": true
   },
   "source": [
    "Adding dropout layer, with drop rate of 0.25, before the last dense layer:"
   ]
  },
  {
   "cell_type": "code",
   "execution_count": 20,
   "metadata": {
    "collapsed": true,
    "deletable": true,
    "editable": true
   },
   "outputs": [],
   "source": [
    "def create_basic_model_with_dropout(input, out_dims):\n",
    "\n",
    "    with default_options(activation=relu):\n",
    "        model = Sequential([\n",
    "            For(range(3), lambda i: [\n",
    "                Convolution((5,5), [32,32,64][i], init=glorot_uniform(), pad=True),\n",
    "                MaxPooling((3,3), strides=(2,2))\n",
    "            ]),\n",
    "            Dense(64, init=glorot_uniform()),\n",
    "            Dropout(0.25),\n",
    "            Dense(out_dims, init=glorot_uniform(), activation=None)\n",
    "        ])\n",
    "\n",
    "    return model(input)"
   ]
  },
  {
   "cell_type": "code",
   "execution_count": 21,
   "metadata": {
    "collapsed": false,
    "deletable": true,
    "editable": true
   },
   "outputs": [
    {
     "name": "stdout",
     "output_type": "stream",
     "text": [
      "Training 116906 parameters in 10 parameter tensors.\n",
      "\n",
      "Learning rate per minibatch: 0.01\n",
      "Momentum per sample: 0.9983550962823424\n",
      "Finished Epoch[1 of 5]: [Training] loss = 2.121341 * 50000, metric = 78.39% * 50000 6.863s (7285.4 samples/s);\n",
      "Finished Epoch[2 of 5]: [Training] loss = 1.808856 * 50000, metric = 67.36% * 50000 5.955s (8396.3 samples/s);\n",
      "Finished Epoch[3 of 5]: [Training] loss = 1.649022 * 50000, metric = 60.92% * 50000 5.812s (8602.9 samples/s);\n",
      "Finished Epoch[4 of 5]: [Training] loss = 1.553691 * 50000, metric = 57.11% * 50000 5.855s (8539.7 samples/s);\n",
      "Finished Epoch[5 of 5]: [Training] loss = 1.489671 * 50000, metric = 54.39% * 50000 6.014s (8313.9 samples/s);\n",
      "\n",
      "Final Results: Minibatch[1-626]: errs = 46.9% * 10000\n",
      "\n"
     ]
    },
    {
     "data": {
      "image/png": "[encoded data removed]",
      "text/plain": [
       "<matplotlib.figure.Figure at 0x7f4da808fcc0>"
      ]
     },
     "metadata": {},
     "output_type": "display_data"
    },
    {
     "data": {
      "image/png": "[encoded data removed]",
      "text/plain": [
       "<matplotlib.figure.Figure at 0x7f4d90152668>"
      ]
     },
     "metadata": {},
     "output_type": "display_data"
    }
   ],
   "source": [
    "pred_basic_model_dropout = train_and_evaluate(reader_train, reader_test, max_epochs=5, model_func=create_basic_model_with_dropout)"
   ]
  },
  {
   "cell_type": "markdown",
   "metadata": {
    "deletable": true,
    "editable": true
   },
   "source": [
    "Add batch normalization after each convolution and before the last dense layer:"
   ]
  },
  {
   "cell_type": "code",
   "execution_count": 22,
   "metadata": {
    "collapsed": true,
    "deletable": true,
    "editable": true
   },
   "outputs": [],
   "source": [
    "def create_basic_model_with_batch_normalization(input, out_dims):\n",
    "\n",
    "    with default_options(activation=relu):\n",
    "        model = Sequential([\n",
    "            For(range(3), lambda i: [\n",
    "                Convolution((5,5), [32,32,64][i], init=glorot_uniform(), pad=True),\n",
    "                BatchNormalization(map_rank=1),\n",
    "                MaxPooling((3,3), strides=(2,2))\n",
    "            ]),\n",
    "            Dense(64, init=glorot_uniform()),\n",
    "            BatchNormalization(map_rank=1),\n",
    "            Dense(out_dims, init=glorot_uniform(), activation=None)\n",
    "        ])\n",
    "\n",
    "    return model(input)"
   ]
  },
  {
   "cell_type": "code",
   "execution_count": 23,
   "metadata": {
    "collapsed": false,
    "deletable": true,
    "editable": true
   },
   "outputs": [
    {
     "name": "stdout",
     "output_type": "stream",
     "text": [
      "Training 117290 parameters in 18 parameter tensors.\n",
      "\n",
      "Learning rate per minibatch: 0.01\n",
      "Momentum per sample: 0.9983550962823424\n",
      "Finished Epoch[1 of 5]: [Training] loss = 1.572001 * 50000, metric = 56.68% * 50000 7.303s (6846.5 samples/s);\n",
      "Finished Epoch[2 of 5]: [Training] loss = 1.226781 * 50000, metric = 43.86% * 50000 7.351s (6801.8 samples/s);\n",
      "Finished Epoch[3 of 5]: [Training] loss = 1.092085 * 50000, metric = 38.57% * 50000 7.166s (6977.4 samples/s);\n",
      "Finished Epoch[4 of 5]: [Training] loss = 1.012729 * 50000, metric = 35.68% * 50000 7.361s (6792.6 samples/s);\n",
      "Finished Epoch[5 of 5]: [Training] loss = 0.950136 * 50000, metric = 33.37% * 50000 7.206s (6938.7 samples/s);\n",
      "\n",
      "Final Results: Minibatch[1-626]: errs = 30.1% * 10000\n",
      "\n"
     ]
    },
    {
     "data": {
      "image/png": "[encoded data removed]",
      "text/plain": [
       "<matplotlib.figure.Figure at 0x7f4dab99e908>"
      ]
     },
     "metadata": {},
     "output_type": "display_data"
    },
    {
     "data": {
      "image/png": "[encoded data removed]",
      "text/plain": [
       "<matplotlib.figure.Figure at 0x7f4d7fec1da0>"
      ]
     },
     "metadata": {},
     "output_type": "display_data"
    }
   ],
   "source": [
    "pred_basic_model_bn = train_and_evaluate(reader_train, reader_test, max_epochs=5, model_func=create_basic_model_with_batch_normalization)"
   ]
  },
  {
   "cell_type": "markdown",
   "metadata": {
    "deletable": true,
    "editable": true
   },
   "source": [
    "Let's implement an inspired VGG style network, using layer API, here the architecture:\n",
    "\n",
    "| VGG9          |\n",
    "| ------------- |\n",
    "| conv3-64      |\n",
    "| conv3-64      |\n",
    "| max3          |\n",
    "|               |\n",
    "| conv3-96      |\n",
    "| conv3-96      |\n",
    "| max3          |\n",
    "|               |\n",
    "| conv3-128     |\n",
    "| conv3-128     |\n",
    "| max3          |\n",
    "|               |\n",
    "| FC-1024       |\n",
    "| FC-1024       |\n",
    "|               |\n",
    "| FC-10         |\n"
   ]
  },
  {
   "cell_type": "code",
   "execution_count": 24,
   "metadata": {
    "collapsed": true,
    "deletable": true,
    "editable": true
   },
   "outputs": [],
   "source": [
    "def create_vgg9_model(input, out_dims):\n",
    "    with default_options(activation=relu):\n",
    "        model = Sequential([\n",
    "            For(range(3), lambda i: [\n",
    "                Convolution((3,3), [64,96,128][i], init=glorot_uniform(), pad=True),\n",
    "                Convolution((3,3), [64,96,128][i], init=glorot_uniform(), pad=True),\n",
    "                MaxPooling((3,3), strides=(2,2))\n",
    "            ]),\n",
    "            For(range(2), lambda : [\n",
    "                Dense(1024, init=glorot_uniform())\n",
    "            ]),\n",
    "            Dense(out_dims, init=glorot_uniform(), activation=None)\n",
    "        ])\n",
    "        \n",
    "    return model(input)"
   ]
  },
  {
   "cell_type": "code",
   "execution_count": 25,
   "metadata": {
    "collapsed": false,
    "deletable": true,
    "editable": true
   },
   "outputs": [
    {
     "name": "stdout",
     "output_type": "stream",
     "text": [
      "Training 2675978 parameters in 18 parameter tensors.\n",
      "\n",
      "Learning rate per minibatch: 0.01\n",
      "Momentum per sample: 0.9983550962823424\n",
      "Finished Epoch[1 of 5]: [Training] loss = 2.266236 * 50000, metric = 84.38% * 50000 22.042s (2268.4 samples/s);\n",
      "Finished Epoch[2 of 5]: [Training] loss = 1.875889 * 50000, metric = 69.66% * 50000 21.467s (2329.2 samples/s);\n",
      "Finished Epoch[3 of 5]: [Training] loss = 1.689261 * 50000, metric = 63.15% * 50000 21.385s (2338.1 samples/s);\n",
      "Finished Epoch[4 of 5]: [Training] loss = 1.562140 * 50000, metric = 57.44% * 50000 21.491s (2326.6 samples/s);\n",
      "Finished Epoch[5 of 5]: [Training] loss = 1.473007 * 50000, metric = 54.07% * 50000 21.422s (2334.0 samples/s);\n",
      "\n",
      "Final Results: Minibatch[1-626]: errs = 51.2% * 10000\n",
      "\n"
     ]
    },
    {
     "data": {
      "image/png": "[encoded data removed]",
      "text/plain": [
       "<matplotlib.figure.Figure at 0x7f4d7fe8ac18>"
      ]
     },
     "metadata": {},
     "output_type": "display_data"
    },
    {
     "data": {
      "image/png": "[encoded data removed]",
      "text/plain": [
       "<matplotlib.figure.Figure at 0x7f4d7f9e88d0>"
      ]
     },
     "metadata": {},
     "output_type": "display_data"
    }
   ],
   "source": [
    "pred_vgg = train_and_evaluate(reader_train, reader_test, max_epochs=5, model_func=create_vgg9_model)"
   ]
  },
  {
   "cell_type": "markdown",
   "metadata": {
    "deletable": true,
    "editable": true
   },
   "source": [
    "### Residual Network (ResNet)\n",
    "\n",
    "One of the main problem of a Deep Neural Network is how to propagate the error all the way to the first layer. For a deep network, the gradient keep getting smaller until it has no effect on the network weights. [ResNet](https://arxiv.org/abs/1512.03385) was designed to overcome such problem, by defining a block with identity path, as shown below:"
   ]
  },
  {
   "cell_type": "code",
   "execution_count": null,
   "metadata": {
    "collapsed": false,
    "deletable": true,
    "editable": true
   },
   "outputs": [],
   "source": [
    "# Figure 7\n",
    "Image(url=\"https://cntk.ai/jup/201/ResNetBlock2.png\")"
   ]
  },
  {
   "cell_type": "markdown",
   "metadata": {
    "deletable": true,
    "editable": true
   },
   "source": [
    "The idea of the above block is 2 folds:\n",
    "\n",
    "* During back propagation the gradient have a path that doesn't affect its magnitude.\n",
    "* The network need to learn residual mapping (delta to x).\n",
    "\n",
    "So let's implements ResNet blocks using CNTK:\n",
    "\n",
    "            ResNetNode                   ResNetNodeInc\n",
    "                |                              |\n",
    "         +------+------+             +---------+----------+\n",
    "         |             |             |                    |\n",
    "         V             |             V                    V\n",
    "    +----------+       |      +--------------+   +----------------+\n",
    "    | Conv, BN |       |      | Conv x 2, BN |   | SubSample, BN  |\n",
    "    +----------+       |      +--------------+   +----------------+\n",
    "         |             |             |                    |\n",
    "         V             |             V                    |\n",
    "     +-------+         |         +-------+                |\n",
    "     | ReLU  |         |         | ReLU  |                |\n",
    "     +-------+         |         +-------+                |\n",
    "         |             |             |                    |\n",
    "         V             |             V                    |\n",
    "    +----------+       |        +----------+              |\n",
    "    | Conv, BN |       |        | Conv, BN |              |\n",
    "    +----------+       |        +----------+              |\n",
    "         |             |             |                    |\n",
    "         |    +---+    |             |       +---+        |\n",
    "         +--->| + |<---+             +------>+ + +<-------+\n",
    "              +---+                          +---+\n",
    "                |                              |\n",
    "                V                              V\n",
    "            +-------+                      +-------+\n",
    "            | ReLU  |                      | ReLU  |\n",
    "            +-------+                      +-------+\n",
    "                |                              |\n",
    "                V                              V\n"
   ]
  },
  {
   "cell_type": "code",
   "execution_count": null,
   "metadata": {
    "collapsed": false,
    "deletable": true,
    "editable": true
   },
   "outputs": [],
   "source": [
    "from cntk.ops import combine, times, element_times, AVG_POOLING\n",
    "\n",
    "def convolution_bn(input, filter_size, num_filters, strides=(1,1), init=he_normal(), activation=relu):\n",
    "    if activation is None:\n",
    "        activation = lambda x: x\n",
    "        \n",
    "    r = Convolution(filter_size, num_filters, strides=strides, init=init, activation=None, pad=True, bias=False)(input)\n",
    "    r = BatchNormalization(map_rank=1)(r)\n",
    "    r = activation(r)\n",
    "    \n",
    "    return r\n",
    "\n",
    "def resnet_basic(input, num_filters):\n",
    "    c1 = convolution_bn(input, (3,3), num_filters)\n",
    "    c2 = convolution_bn(c1, (3,3), num_filters, activation=None)\n",
    "    p  = c2 + input\n",
    "    return relu(p)\n",
    "\n",
    "def resnet_basic_inc(input, num_filters):\n",
    "    c1 = convolution_bn(input, (3,3), num_filters, strides=(2,2))\n",
    "    c2 = convolution_bn(c1, (3,3), num_filters, activation=None)\n",
    "\n",
    "    s = convolution_bn(input, (1,1), num_filters, strides=(2,2), activation=None)\n",
    "    \n",
    "    p = c2 + s\n",
    "    return relu(p)\n",
    "\n",
    "def resnet_basic_stack(input, num_filters, num_stack):\n",
    "    assert (num_stack > 0)\n",
    "    \n",
    "    r = input\n",
    "    for _ in range(num_stack):\n",
    "        r = resnet_basic(r, num_filters)\n",
    "    return r"
   ]
  },
  {
   "cell_type": "markdown",
   "metadata": {
    "deletable": true,
    "editable": true
   },
   "source": [
    "Let's write the full model:"
   ]
  },
  {
   "cell_type": "code",
   "execution_count": null,
   "metadata": {
    "collapsed": true,
    "deletable": true,
    "editable": true
   },
   "outputs": [],
   "source": [
    "def create_resnet_model(input, out_dims):\n",
    "    conv = convolution_bn(input, (3,3), 16)\n",
    "    r1_1 = resnet_basic_stack(conv, 16, 3)\n",
    "\n",
    "    r2_1 = resnet_basic_inc(r1_1, 32)\n",
    "    r2_2 = resnet_basic_stack(r2_1, 32, 2)\n",
    "\n",
    "    r3_1 = resnet_basic_inc(r2_2, 64)\n",
    "    r3_2 = resnet_basic_stack(r3_1, 64, 2)\n",
    "\n",
    "    # Global average pooling\n",
    "    pool = AveragePooling(filter_shape=(8,8), strides=(1,1))(r3_2)    \n",
    "    net = Dense(out_dims, init=he_normal(), activation=None)(pool)\n",
    "    \n",
    "    return net"
   ]
  },
  {
   "cell_type": "code",
   "execution_count": null,
   "metadata": {
    "collapsed": false,
    "deletable": true,
    "editable": true
   },
   "outputs": [],
   "source": [
    "pred_resnet = train_and_evaluate(reader_train, reader_test, max_epochs=5, model_func=create_resnet_model)"
   ]
  },
  {
   "cell_type": "code",
   "execution_count": null,
   "metadata": {
    "collapsed": true,
    "deletable": true,
    "editable": true
   },
   "outputs": [],
   "source": []
  }
 ],
 "metadata": {
  "anaconda-cloud": {},
  "kernelspec": {
   "display_name": "Python [conda env:py36]",
   "language": "python",
   "name": "conda-env-py36-py"
  },
  "language_info": {
   "codemirror_mode": {
    "name": "ipython",
    "version": 3
   },
   "file_extension": ".py",
   "mimetype": "text/x-python",
   "name": "python",
   "nbconvert_exporter": "python",
   "pygments_lexer": "ipython3",
   "version": "3.6.0"
  }
 },
 "nbformat": 4,
 "nbformat_minor": 1
}
